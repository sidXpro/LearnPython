{
 "cells": [
  {
   "cell_type": "markdown",
   "id": "c46770cb-f0ff-404a-b91e-3b91f4d8607e",
   "metadata": {
    "tags": []
   },
   "source": [
    "# At a Glance\n",
    "\n",
    "This introduction to Python will kickstart your learning of Python for data science, as well as programming in general. This beginner-friendly Python course will take you from zero to programming in Python in a matter of hours. Upon its completion, you'll be able to write your own Python scripts. If you want to learn Python from scratch, this course is for you.\n",
    "This introduction to Python will kickstart your learning of Python for data science, as well as programming in general. This beginner-friendly Python course will take you from zero to programming in Python in a matter of hours.\n",
    "Upon its completion, you'll be able to write your own Python scripts and perform basic hands-on data analysis using our Jupyter-based lab environment. If you want to learn Python from scratch, this course is for you.\n",
    "\n",
    "<h1> COURSE SYLLABUS </h1>\n",
    "\n",
    "<h2>Module 1 - Python Basics </h2>\n",
    "\t<li>Your first program</li>\n",
    "\t<li>Types</li>\n",
    "    <li>Expressions and Variables</li>\n",
    "\t<li>String Operations</li>\n",
    "\n",
    "\n",
    "\n",
    "<h2>Module 2 - Python Data Structures </h2>\n",
    "\t<li>Lists and Tuples</li>\n",
    "\t<li>Sets</li>\n",
    "\t<li>Dictionaries</li>\n",
    "\n",
    "\n",
    "\n",
    "\n",
    "<h2>Module 3 - Python Programming Fundamentals </h2>\n",
    "\t<li>Conditions and Branching</li>\n",
    "\t<li>Loops</li>\n",
    "\t<li>Functions</li>\n",
    "\t<li>Objects and Classes</li>\n",
    "\n",
    "\n",
    "\n",
    "\n",
    "<h2>Module 4 - Working with Data in Python </h2>\n",
    "\t<li>Reading files with open</li>\n",
    "\t<li>Writing files with open</li>\n",
    "\t<li>Loading data with Pandas</li>\n",
    "\t<li>Working with and Saving data with Pandas</li>\t\t\t\t\t\t\t\n",
    "\n",
    "\n",
    "\n",
    "<h2>Module 5 - Working with Numpy Arrays and Simple APIs </h2>\n",
    "\t<li>Numpy 1D Arrays</li>\n",
    "\t<li>Numpy 2D Arrays</li>\n",
    "     <li>Simple APIs</li>\n",
    "\t<li>API Setup</li>\n",
    "\n"
   ]
  },
  {
   "cell_type": "code",
   "execution_count": null,
   "id": "4c67a547-9b1c-4580-b624-5bad76c280c2",
   "metadata": {},
   "outputs": [],
   "source": []
  }
 ],
 "metadata": {
  "kernelspec": {
   "display_name": "Python 3 (ipykernel)",
   "language": "python",
   "name": "python3"
  },
  "language_info": {
   "codemirror_mode": {
    "name": "ipython",
    "version": 3
   },
   "file_extension": ".py",
   "mimetype": "text/x-python",
   "name": "python",
   "nbconvert_exporter": "python",
   "pygments_lexer": "ipython3",
   "version": "3.11.2"
  }
 },
 "nbformat": 4,
 "nbformat_minor": 5
}
